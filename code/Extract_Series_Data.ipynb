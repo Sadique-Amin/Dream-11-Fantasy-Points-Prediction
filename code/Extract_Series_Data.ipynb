{
 "cells": [
  {
   "cell_type": "code",
   "execution_count": null,
   "metadata": {},
   "outputs": [
    {
     "name": "stdout",
     "output_type": "stream",
     "text": [
      "Unique entries saved to 'unique_series.txt' successfully.\n"
     ]
    }
   ],
   "source": [
    "# Extracting Unique Matches\n",
    "\n",
    "import csv\n",
    "\n",
    "def extract_unique_series(input_file):\n",
    "    \"\"\"Extract unique entries from the 'Series' column in the given CSV file.\"\"\"\n",
    "    unique_series = set()  # Use a set to store unique entries\n",
    "\n",
    "    # Read the original CSV file\n",
    "    with open(input_file, mode='r') as infile:\n",
    "        reader = csv.DictReader(infile)  # Use DictReader to access columns by name\n",
    "\n",
    "        # Collect unique entries from the 'Series' column\n",
    "        for row in reader:\n",
    "            series_value = row.get('Series')  # Get the value from the 'Series' column\n",
    "            if series_value:  # Check if the value is not None or empty\n",
    "                unique_series.add(series_value.strip())  # Add to the set\n",
    "\n",
    "    return unique_series\n",
    "\n",
    "def save_to_txt(output_file, unique_series):\n",
    "    \"\"\"Save the unique series entries to a text file.\"\"\"\n",
    "    with open(output_file, mode='w') as outfile:\n",
    "        for series in unique_series:\n",
    "            outfile.write(series + '\\n')  # Write each series entry on a new line\n",
    "\n",
    "# Example usage\n",
    "csv_file = 'Drumsticks - MatchWiseInfo.csv'  # Replace with your actual CSV file name\n",
    "output_txt_file = 'unique_series.txt'  # Name of the output text file\n",
    "\n",
    "# Extract unique series\n",
    "unique_series_list = extract_unique_series(csv_file)\n",
    "\n",
    "# Save the unique entries to a text file\n",
    "save_to_txt(output_txt_file, unique_series_list)\n",
    "\n",
    "print(f\"Unique entries saved to '{output_txt_file}' successfully.\")"
   ]
  },
  {
   "cell_type": "code",
   "execution_count": 19,
   "metadata": {},
   "outputs": [
    {
     "name": "stdout",
     "output_type": "stream",
     "text": [
      "Links saved to 'MatchLinks_Leagues.csv' successfully.\n"
     ]
    }
   ],
   "source": [
    "import csv\n",
    "\n",
    "# Function to generate the link for a given team name\n",
    "def generate_link(team_name, base_url):\n",
    "    # Format the team name to match the URL structure\n",
    "    formatted_team_name = team_name.lower().replace(\" \", \"-\").replace(\"squad\", \"\")\n",
    "    \n",
    "    team_number_year = base_url.split('-')[-1].split('/')[0]\n",
    "    link = f\"{base_url}{formatted_team_name}squad-{team_number_year}/series-squads\"  # Use the same ID for simplicity\n",
    "    return link\n",
    "\n",
    "\n",
    "\n",
    "# Create a list to hold the generated links\n",
    "links = []\n",
    "\n",
    "\n",
    "# List of team names\n",
    "team_names = [\n",
    "    \"Chennai Super Kings Squad\",\n",
    "    \"Delhi Capitals Squad\",\n",
    "    \"Gujarat Titans Squad\",\n",
    "    \"Kolkata Knight Riders Squad\",\n",
    "    \"Lucknow Super Giants Squad\",\n",
    "    \"Mumbai Indians Squad\",\n",
    "    \"Punjab Kings Squad\",\n",
    "    \"Rajasthan Royals Squad\",\n",
    "    \"Royal Challengers Bengaluru Squad\",\n",
    "    \"Sunrisers Hyderabad Squad\"\n",
    "]\n",
    "base_url = \"https://www.espncricinfo.com/series/indian-premier-league-2024-1410320/\"\n",
    "\n",
    "\n",
    "# Generate links for each team name\n",
    "for team in team_names:\n",
    "    link = generate_link(team, base_url)\n",
    "    links.append({'Link': link})  # Store only the link\n",
    "\n",
    "# Save the links to a CSV file\n",
    "output_file = 'MatchLinks_Leagues.csv'\n",
    "with open(output_file, mode='w', newline='') as csvfile:\n",
    "    fieldnames = ['Link']  # Only one column for links\n",
    "    writer = csv.DictWriter(csvfile, fieldnames=fieldnames)\n",
    "\n",
    "    writer.writeheader()  # Write the header\n",
    "    writer.writerows(links)  # Write the links\n",
    "\n",
    "print(f\"Links saved to '{output_file}' successfully.\")"
   ]
  },
  {
   "cell_type": "code",
   "execution_count": 38,
   "metadata": {},
   "outputs": [
    {
     "name": "stdout",
     "output_type": "stream",
     "text": [
      "Team and player data extracted and saved to '2008.csv' successfully.\n"
     ]
    }
   ],
   "source": [
    "from bs4 import BeautifulSoup\n",
    "import requests\n",
    "import pandas as pd\n",
    "import lxml\n",
    "import csv\n",
    "\n",
    "# Set the headers for the request\n",
    "headers = {\n",
    "    \"User-Agent\": \"Mozilla/5.0 (Windows NT 10.0; Win64; x64) AppleWebKit/537.36 (KHTML, like Gecko) Chrome/110.0.0.0 Safari/537.36\"\n",
    "}\n",
    "\n",
    "def extract_team_and_players(link):\n",
    "    \"\"\"Extract team name and player information from the given URL.\"\"\"\n",
    "    response = requests.get(link, headers=headers)\n",
    "    soup = BeautifulSoup(response.text, \"lxml\")\n",
    "\n",
    "    # Extract the team name from the URL\n",
    "    team_name_segment = link.split('/')[-2]  # Get 'colombo-strikers-squad-1437544'\n",
    "    team_name = team_name_segment.split('-squad')[0].replace('-', ' ').title()  # Extract and format the team name\n",
    "\n",
    "    # Find all relevant divs containing player information\n",
    "    divs = soup.find_all(\"div\", class_=\"ds-flex ds-flex-row ds-items-center ds-justify-between\")\n",
    "\n",
    "    # Initialize lists to store player names and IDs\n",
    "    names = []\n",
    "    ids = []\n",
    "\n",
    "    # Extract player names and IDs\n",
    "    for div in divs:\n",
    "        a = div.find(\"a\")\n",
    "        names.append(a.text.strip())  # Append player name\n",
    "        ids.append(a.get(\"href\").split(\"-\")[-1])  # Append player ID\n",
    "\n",
    "    # Create a DataFrame with the extracted data\n",
    "    df = pd.DataFrame({\"Name\": names, \"ID\": ids})\n",
    "    df[\"Team\"] = team_name  # Add the team name as a new column\n",
    "\n",
    "    return df\n",
    "\n",
    "def process_links(input_file, output_file):\n",
    "    \"\"\"Process a CSV file containing links and save the extracted data to a new CSV file.\"\"\"\n",
    "    all_data = pd.DataFrame()  # Initialize an empty DataFrame to hold all data\n",
    "\n",
    "    # Read the links from the input CSV file\n",
    "    with open(input_file, mode='r') as infile:\n",
    "        reader = csv.DictReader(infile)  # Assuming the CSV has a header\n",
    "        for row in reader:\n",
    "            link = row['Link']  # Replace 'Link' with the actual column name in your CSV\n",
    "            team_data = extract_team_and_players(link)  # Extract team and player data\n",
    "            all_data = pd.concat([all_data, team_data], ignore_index=True)  # Append to the main DataFrame\n",
    "\n",
    "    # Save the combined DataFrame to a new CSV file\n",
    "    all_data.to_csv(output_file, index=False)\n",
    "\n",
    "# Example usage\n",
    "input_csv_file = 'MatchLinks_Leagues.csv'  # Replace with your actual input CSV file name\n",
    "output_csv_file = '2008.csv'  # Name of the output CSV file\n",
    "\n",
    "process_links(input_csv_file, output_csv_file)\n",
    "\n",
    "print(f\"Team and player data extracted and saved to '{output_csv_file}' successfully.\")"
   ]
  }
 ],
 "metadata": {
  "kernelspec": {
   "display_name": "dream_11_env",
   "language": "python",
   "name": "python3"
  },
  "language_info": {
   "codemirror_mode": {
    "name": "ipython",
    "version": 3
   },
   "file_extension": ".py",
   "mimetype": "text/x-python",
   "name": "python",
   "nbconvert_exporter": "python",
   "pygments_lexer": "ipython3",
   "version": "3.12.8"
  }
 },
 "nbformat": 4,
 "nbformat_minor": 2
}

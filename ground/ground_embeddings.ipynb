{
 "cells": [
  {
   "cell_type": "code",
   "execution_count": 5,
   "metadata": {},
   "outputs": [
    {
     "name": "stderr",
     "output_type": "stream",
     "text": [
      "/Users/ghazalaamin/Documents/Dream-11-Fantasy-Points-Prediction/dream_11_env/lib/python3.12/site-packages/sklearn/preprocessing/_data.py:2829: UserWarning: n_quantiles (1000) is greater than the total number of samples (189). n_quantiles is set to n_samples.\n",
      "  warnings.warn(\n",
      "/Users/ghazalaamin/Documents/Dream-11-Fantasy-Points-Prediction/dream_11_env/lib/python3.12/site-packages/sklearn/utils/deprecation.py:151: FutureWarning: 'force_all_finite' was renamed to 'ensure_all_finite' in 1.6 and will be removed in 1.8.\n",
      "  warnings.warn(\n"
     ]
    }
   ],
   "source": [
    "import pandas as pd\n",
    "import numpy as np\n",
    "from sklearn.pipeline import make_pipeline\n",
    "from sklearn.decomposition import PCA\n",
    "from umap import UMAP\n",
    "from sklearn.preprocessing import QuantileTransformer\n",
    "\n",
    "# Load the data\n",
    "df = pd.read_csv('Drumsticks - CleanedGroundIDWithData.csv')\n",
    "\n",
    "# Stage 1: Group-wise PCA\n",
    "group_pipelines = {\n",
    "    'venue': PCA(n_components=3),       # Home/Away/Neutral stats\n",
    "    'toss': PCA(n_components=4),        # Toss-related metrics\n",
    "    'innings': PCA(n_components=2),     # Innings progression\n",
    "    'lighting': PCA(n_components=2)     # Match timing\n",
    "}\n",
    "\n",
    "# Feature Engineering\n",
    "df['HomeAdvantageIndex'] = (df['HomeWinLossRatio'] * 0.4 + \n",
    "                           df['HomeAverage'] * 0.3 + \n",
    "                           df['HomeRPO'] * 0.3)\n",
    "\n",
    "df['TossImpactQuotient'] = (\n",
    "    (df['WonTossBattedWinLossRatio'] - df['LostTossFieldedWinLossRatio']) * \n",
    "    np.log1p(df['WonTossBattedAverage'])\n",
    ")\n",
    "\n",
    "df['LightingDelta'] = (\n",
    "    df['DayNightMatchRPO'] - \n",
    "    (df['DayMatchRPO'] + df['NightMatchRPO']) / 2\n",
    ")\n",
    "\n",
    "# Scaling the data\n",
    "qt = QuantileTransformer(output_distribution='normal')\n",
    "scaled_data = qt.fit_transform(df.drop('ID', axis=1))\n",
    "\n",
    "# Apply PCA for each group and concatenate results\n",
    "pca_results = []\n",
    "for key, pipeline in group_pipelines.items():\n",
    "    pca_result = pipeline.fit_transform(scaled_data)\n",
    "    pca_results.append(pca_result)\n",
    "\n",
    "# Concatenate PCA results\n",
    "pca_concatenated = np.concatenate(pca_results, axis=1)\n",
    "\n",
    "# Stage 2: Unified UMAP\n",
    "final_umap = UMAP(n_components=8, \n",
    "                  metric='correlation', \n",
    "                  n_neighbors=15)\n",
    "\n",
    "# Generate final embeddings\n",
    "embeddings = final_umap.fit_transform(pca_concatenated)\n",
    "\n",
    "# Create a new DataFrame to keep only the embeddings\n",
    "embeddings_df = pd.DataFrame(embeddings, columns=[f'Embedding_{i+1}' for i in range(embeddings.shape[1])])\n",
    "\n",
    "# Save the final DataFrame with embeddings\n",
    "embeddings_df.to_csv('GroundIDWithData_Embeddings.csv', index=False)"
   ]
  }
 ],
 "metadata": {
  "kernelspec": {
   "display_name": "dream_11_env",
   "language": "python",
   "name": "python3"
  },
  "language_info": {
   "codemirror_mode": {
    "name": "ipython",
    "version": 3
   },
   "file_extension": ".py",
   "mimetype": "text/x-python",
   "name": "python",
   "nbconvert_exporter": "python",
   "pygments_lexer": "ipython3",
   "version": "3.12.8"
  }
 },
 "nbformat": 4,
 "nbformat_minor": 2
}
